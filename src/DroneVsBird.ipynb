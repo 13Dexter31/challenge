{
 "cells": [
  {
   "cell_type": "markdown",
   "metadata": {
    "collapsed": true,
    "pycharm": {
     "name": "#%% md\n"
    }
   },
   "source": [
    "# Gather Frames"
   ]
  },
  {
   "cell_type": "code",
   "execution_count": 1,
   "outputs": [],
   "source": [
    "import cv2  # pip install opencv-python\n",
    "import os"
   ],
   "metadata": {
    "collapsed": false,
    "pycharm": {
     "name": "#%%\n"
    }
   }
  },
  {
   "cell_type": "markdown",
   "source": [
    "### Create output dir"
   ],
   "metadata": {
    "collapsed": false,
    "pycharm": {
     "name": "#%% md\n"
    }
   }
  },
  {
   "cell_type": "code",
   "execution_count": 13,
   "outputs": [],
   "source": [
    "def make_dir(dir_path):\n",
    "    try:\n",
    "        if not os.path.exists(dir_path):\n",
    "            os.makedirs(dir_path)\n",
    "    except OSError:\n",
    "        print ('Error: Failed to create dir ' + dir_path)"
   ],
   "metadata": {
    "collapsed": false,
    "pycharm": {
     "name": "#%%\n"
    }
   }
  },
  {
   "cell_type": "code",
   "execution_count": 4,
   "outputs": [],
   "source": [
    "output_dir = 'datasets/frames/'\n",
    "make_dir(output_dir)"
   ],
   "metadata": {
    "collapsed": false,
    "pycharm": {
     "name": "#%%\n"
    }
   }
  },
  {
   "cell_type": "markdown",
   "source": [
    "### Get train videos"
   ],
   "metadata": {
    "collapsed": false,
    "pycharm": {
     "name": "#%% md\n"
    }
   }
  },
  {
   "cell_type": "code",
   "execution_count": 5,
   "outputs": [],
   "source": [
    "train_videos_dir = 'datasets/train_videos/'\n",
    "if not os.path.exists(train_videos_dir):\n",
    "    print(f\"Error: {train_videos_dir} does not exist.\\nPlease add train videos before continuing.\")"
   ],
   "metadata": {
    "collapsed": false,
    "pycharm": {
     "name": "#%%\n"
    }
   }
  },
  {
   "cell_type": "code",
   "execution_count": 6,
   "outputs": [
    {
     "name": "stdout",
     "output_type": "stream",
     "text": [
      "77 trainings videos found.\n"
     ]
    }
   ],
   "source": [
    "train_video_files = os.listdir(train_videos_dir)\n",
    "print(f\"{len(train_video_files)} trainings videos found.\")"
   ],
   "metadata": {
    "collapsed": false,
    "pycharm": {
     "name": "#%%\n"
    }
   }
  },
  {
   "cell_type": "markdown",
   "source": [
    "### Get Frames From Video's"
   ],
   "metadata": {
    "collapsed": false,
    "pycharm": {
     "name": "#%% md\n"
    }
   }
  },
  {
   "cell_type": "code",
   "execution_count": 7,
   "outputs": [],
   "source": [
    "def get_frames_from_video(_video_capture, _frame_output_dir):\n",
    "\n",
    "    _current_frame = 0\n",
    "    while True:\n",
    "        _frame_was_found, _frame = _video_capture.read()\n",
    "        if _frame_was_found:\n",
    "            name = f\"{_frame_output_dir}/{str(_current_frame)}.jpg\"\n",
    "            cv2.imwrite(name, _frame)\n",
    "            _current_frame += 1\n",
    "        else:\n",
    "            break\n",
    "\n",
    "    print(f'    Captured {_current_frame} frames for ' + _frame_output_dir)\n",
    "\n",
    "    _video_capture.release()\n",
    "    cv2.destroyAllWindows()"
   ],
   "metadata": {
    "collapsed": false,
    "pycharm": {
     "name": "#%%\n"
    }
   }
  },
  {
   "cell_type": "code",
   "execution_count": 12,
   "outputs": [
    {
     "name": "stdout",
     "output_type": "stream",
     "text": [
      "Start capturing frames for the trainings videos\n",
      "    Captured 175 frames for datasets/frames/00_01_52_to_00_01_58\n",
      "    Captured 400 frames for datasets/frames/00_02_45_to_00_03_10_cut\n",
      "    Captured 497 frames for datasets/frames/00_06_10_to_00_06_27\n",
      "    Captured 1165 frames for datasets/frames/00_09_30_to_00_10_09\n",
      "    Captured 924 frames for datasets/frames/00_10_09_to_00_10_40\n",
      "    Captured 2951 frames for datasets/frames/2019_08_19_C0001_5319_phantom\n",
      "    Captured 1000 frames for datasets/frames/2019_08_19_GOPR5869_1530_phantom\n",
      "    Captured 876 frames for datasets/frames/2019_08_19_GP015869_1520_inspire\n",
      "    Captured 502 frames for datasets/frames/2019_09_02_C0002_2527_inspire\n",
      "    Captured 928 frames for datasets/frames/2019_09_02_C0002_3700_mavic\n",
      "    Captured 725 frames for datasets/frames/2019_09_02_GOPR5871_1058_solo\n",
      "    Captured 1576 frames for datasets/frames/2019_10_16_C0003_1700_matrice\n",
      "    Captured 1411 frames for datasets/frames/2019_10_16_C0003_3633_inspire\n",
      "    Captured 426 frames for datasets/frames/2019_10_16_C0003_4613_mavic\n",
      "    Captured 426 frames for datasets/frames/2019_10_16_C0003_5043_mavic\n",
      "    Captured 2601 frames for datasets/frames/2019_11_14_C0001_3922_matrice\n",
      "    Captured 1537 frames for datasets/frames/custom_fixed_wing_1\n",
      "    Captured 1801 frames for datasets/frames/custom_fixed_wing_2\n",
      "    Captured 841 frames for datasets/frames/distant_parrot_2\n",
      "    Captured 841 frames for datasets/frames/distant_parrot_with_birds\n",
      "    Captured 1501 frames for datasets/frames/dji_matrice_210_hillside\n",
      "    Captured 1495 frames for datasets/frames/dji_matrice_210_mountain\n",
      "    Captured 1526 frames for datasets/frames/dji_matrice_210_off_focus\n",
      "    Captured 1501 frames for datasets/frames/dji_matrice_210_sky\n",
      "    Captured 1501 frames for datasets/frames/dji_mavick_close_buildings\n",
      "    Captured 1501 frames for datasets/frames/dji_mavick_distant_hillside\n",
      "    Captured 2075 frames for datasets/frames/dji_mavick_hillside_off_focus\n",
      "    Captured 1475 frames for datasets/frames/dji_mavick_mountain\n",
      "    Captured 1526 frames for datasets/frames/dji_mavick_mountain_cruise\n",
      "    Captured 2741 frames for datasets/frames/dji_pantom_landing_custom_fixed_takeoff\n",
      "    Captured 2750 frames for datasets/frames/dji_phantom_4_hillside_cross\n",
      "    Captured 1500 frames for datasets/frames/dji_phantom_4_long_takeoff\n",
      "    Captured 1500 frames for datasets/frames/dji_phantom_4_mountain_hover\n",
      "    Captured 3001 frames for datasets/frames/dji_phantom_4_swarm_noon\n",
      "    Captured 3893 frames for datasets/frames/dji_phantom_mountain_cross\n",
      "    Captured 212 frames for datasets/frames/fixed_wing_over_hill_1\n",
      "    Captured 331 frames for datasets/frames/fixed_wing_over_hill_2\n",
      "    Captured 612 frames for datasets/frames/GOPR5842_002\n",
      "    Captured 526 frames for datasets/frames/GOPR5842_005\n",
      "    Captured 511 frames for datasets/frames/GOPR5842_007\n",
      "    Captured 424 frames for datasets/frames/GOPR5843_002\n",
      "    Captured 571 frames for datasets/frames/GOPR5843_005\n",
      "    Captured 497 frames for datasets/frames/GOPR5844_002\n",
      "    Captured 417 frames for datasets/frames/GOPR5844_004\n",
      "    Captured 601 frames for datasets/frames/GOPR5845_001\n",
      "    Captured 391 frames for datasets/frames/GOPR5845_004\n",
      "    Captured 686 frames for datasets/frames/GOPR5846_002\n",
      "    Captured 450 frames for datasets/frames/GOPR5846_005\n",
      "    Captured 496 frames for datasets/frames/GOPR5847_003\n",
      "    Captured 721 frames for datasets/frames/GOPR5847_004\n",
      "    Captured 511 frames for datasets/frames/GOPR5848_002\n",
      "    Captured 691 frames for datasets/frames/GOPR5848_004\n",
      "    Captured 481 frames for datasets/frames/gopro_000\n",
      "    Captured 481 frames for datasets/frames/gopro_001\n",
      "    Captured 319 frames for datasets/frames/gopro_002\n",
      "    Captured 555 frames for datasets/frames/gopro_003\n",
      "    Captured 751 frames for datasets/frames/gopro_004\n",
      "    Captured 811 frames for datasets/frames/gopro_005\n",
      "    Captured 1351 frames for datasets/frames/gopro_006\n",
      "    Captured 3481 frames for datasets/frames/gopro_007\n",
      "    Captured 991 frames for datasets/frames/gopro_008\n",
      "    Captured 3001 frames for datasets/frames/matrice_600_2\n",
      "    Captured 3001 frames for datasets/frames/matrice_600_3\n",
      "    Captured 854 frames for datasets/frames/off_focus_parrot_birds\n",
      "    Captured 840 frames for datasets/frames/parot_disco_takeoff\n",
      "    Captured 841 frames for datasets/frames/parrot_clear_birds\n",
      "    Captured 841 frames for datasets/frames/parrot_clear_birds_med_range\n",
      "    Captured 3001 frames for datasets/frames/parrot_disco_distant_cross\n",
      "    Captured 3001 frames for datasets/frames/parrot_disco_distant_cross_3\n",
      "    Captured 4612 frames for datasets/frames/parrot_disco_long_session\n",
      "    Captured 3001 frames for datasets/frames/parrot_disco_midrange_cross\n",
      "    Captured 841 frames for datasets/frames/parrot_disco_zoomin_zoomout\n",
      "    Captured 3901 frames for datasets/frames/swarm_dji_phantom\n",
      "    Captured 3001 frames for datasets/frames/swarm_dji_phantom4_2\n",
      "    Captured 1771 frames for datasets/frames/two_distant_phantom\n",
      "    Captured 3501 frames for datasets/frames/two_parrot_disco_1\n",
      "    Captured 1500 frames for datasets/frames/two_uavs_plus_airplane\n",
      "Successfully captured frames for the trainings videos\n"
     ]
    }
   ],
   "source": [
    "print(\"Start capturing frames for the trainings videos\")\n",
    "for video_number in range(len(train_video_files)):\n",
    "\n",
    "    video_name = train_video_files[video_number]\n",
    "    video = cv2.VideoCapture(train_videos_dir + video_name)\n",
    "\n",
    "    frame_output_dir = output_dir + video_name.split('.')[0]\n",
    "    make_dir(frame_output_dir)\n",
    "\n",
    "    get_frames_from_video(video, frame_output_dir)\n",
    "\n",
    "print(\"Successfully captured frames for the trainings videos\")"
   ],
   "metadata": {
    "collapsed": false,
    "pycharm": {
     "name": "#%%\n"
    }
   }
  },
  {
   "cell_type": "markdown",
   "source": [
    "# Generate Fragments"
   ],
   "metadata": {
    "collapsed": false,
    "pycharm": {
     "name": "#%% md\n"
    }
   }
  },
  {
   "cell_type": "markdown",
   "source": [
    "### Analysing Frame Sizes"
   ],
   "metadata": {
    "collapsed": false
   }
  },
  {
   "cell_type": "code",
   "execution_count": 4,
   "outputs": [],
   "source": [
    "import os\n",
    "import cv2"
   ],
   "metadata": {
    "collapsed": false,
    "pycharm": {
     "name": "#%%\n"
    }
   }
  },
  {
   "cell_type": "code",
   "execution_count": 5,
   "outputs": [
    {
     "name": "stdout",
     "output_type": "stream",
     "text": [
      "77\n"
     ]
    }
   ],
   "source": [
    "frames_dir = 'datasets/frames/'\n",
    "frame_dirs = os.listdir(frames_dir)\n",
    "print(len(frame_dirs))"
   ],
   "metadata": {
    "collapsed": false,
    "pycharm": {
     "name": "#%%\n"
    }
   }
  },
  {
   "cell_type": "code",
   "execution_count": 7,
   "outputs": [
    {
     "name": "stdout",
     "output_type": "stream",
     "text": [
      "56 times (1080, 1920)\n",
      "8 times (2160, 3840)\n",
      "12 times (576, 720)\n",
      "1 times (720, 1280)\n"
     ]
    }
   ],
   "source": [
    "frame_size_dict = {}\n",
    "for frame_dir in frame_dirs:\n",
    "    current_frame_dir = frames_dir + frame_dir\n",
    "    frame_names = os.listdir(current_frame_dir)\n",
    "    frame = cv2.imread(current_frame_dir + '/' + frame_names[0])\n",
    "    h, w, c = frame.shape\n",
    "    # frame_size_set\n",
    "\n",
    "    if not frame_size_dict.__contains__((h, w)):\n",
    "        frame_size_dict[(h, w)] = 1\n",
    "    else:\n",
    "        frame_size_dict[(h, w)] += 1\n",
    "\n",
    "for frame_size, count in frame_size_dict.items():\n",
    "    print(f'{count} times {frame_size}')"
   ],
   "metadata": {
    "collapsed": false,
    "pycharm": {
     "name": "#%%\n"
    }
   }
  },
  {
   "cell_type": "markdown",
   "source": [
    "(1080, 1920) / (360, 640) = (3, 3) % 0\n",
    "(2160, 3840) / (360, 640) = (6, 6) % 0\n",
    "(576, 720)   / (360, 640) = (1, 1) % (216, 120)\n",
    "(720, 1280)  / (360, 640) = (2, 2) % 0"
   ],
   "metadata": {
    "collapsed": false,
    "pycharm": {
     "name": "#%% md\n"
    }
   }
  },
  {
   "cell_type": "markdown",
   "source": [
    "### Slitting Frames into Fragments"
   ],
   "metadata": {
    "collapsed": false
   }
  },
  {
   "cell_type": "code",
   "execution_count": 7,
   "outputs": [],
   "source": [
    "import numpy as np\n",
    "from matplotlib import pyplot as plt"
   ],
   "metadata": {
    "collapsed": false,
    "pycharm": {
     "name": "#%%\n"
    }
   }
  },
  {
   "cell_type": "code",
   "execution_count": null,
   "outputs": [],
   "source": [
    "def show_image(_img):\n",
    "    cv2.imshow('image window', _img)\n",
    "    cv2.waitKey(0)\n",
    "    cv2.destroyAllWindows()"
   ],
   "metadata": {
    "collapsed": false,
    "pycharm": {
     "name": "#%%\n"
    }
   }
  },
  {
   "cell_type": "code",
   "execution_count": null,
   "outputs": [],
   "source": [
    "def show_image_in_window(_image):\n",
    "    # _image = cv2.cvtColor(_image, cv2.COLOR_BGRA2RGB)\n",
    "    plt.imshow(_image)\n",
    "    plt.title('my picture')\n",
    "    plt.show()"
   ],
   "metadata": {
    "collapsed": false,
    "pycharm": {
     "name": "#%%\n"
    }
   }
  },
  {
   "cell_type": "code",
   "execution_count": 18,
   "outputs": [
    {
     "ename": "ModuleNotFoundError",
     "evalue": "No module named 'PIL'",
     "output_type": "error",
     "traceback": [
      "\u001B[1;31m---------------------------------------------------------------------------\u001B[0m",
      "\u001B[1;31mModuleNotFoundError\u001B[0m                       Traceback (most recent call last)",
      "\u001B[1;32m~\\AppData\\Local\\Temp/ipykernel_1680/2768387157.py\u001B[0m in \u001B[0;36m<module>\u001B[1;34m\u001B[0m\n\u001B[1;32m----> 1\u001B[1;33m \u001B[1;32mfrom\u001B[0m \u001B[0mPIL\u001B[0m \u001B[1;32mimport\u001B[0m \u001B[0mImage\u001B[0m\u001B[1;33m\u001B[0m\u001B[1;33m\u001B[0m\u001B[0m\n\u001B[0m",
      "\u001B[1;31mModuleNotFoundError\u001B[0m: No module named 'PIL'"
     ]
    }
   ],
   "source": [
    "def create_fragments():\n",
    "\n",
    "    image = np.zeros((1, 1024, 1024, 3))\n",
    "    new_image = np.zeros((1, 1024, 1024, 3))\n",
    "    image_fragment = ImageFragment.image_fragment_4d(fragment_size=(1, 512, 512, 3), org_size=(1, 1024, 1024, 3))\n",
    "    for fragment in image_fragment:\n",
    "        # GET DATA THAT BELONGS TO THE FRAGMENT\n",
    "        fragmented_image = fragment.get_fragment_data(image)\n",
    "\n",
    "        # DO SOME OPERATION ON THE FRAGMENTED DATA\n",
    "        operation_done_on_fragmented_data = np.rot(fragmented_image)\n",
    "\n",
    "        # TRANSFER OPERATED IMAGE ON NEW IMAGE ON THE FRAGMENT POSITION\n",
    "        new_image = fragment.transfer_fragment(transfer_from=operation_done_on_fragmented_data, transfer_to=new_image)\n"
   ],
   "metadata": {
    "collapsed": false,
    "pycharm": {
     "name": "#%%\n"
    }
   }
  },
  {
   "cell_type": "code",
   "execution_count": 33,
   "outputs": [
    {
     "data": {
      "text/plain": "array([[[ 77,  49,  42],\n        [ 83,  55,  48],\n        [ 79,  51,  44],\n        ...,\n        [102,  73,  68],\n        [105,  75,  70],\n        [101,  71,  66]],\n\n       [[ 81,  53,  46],\n        [ 80,  52,  45],\n        [ 84,  56,  49],\n        ...,\n        [100,  71,  66],\n        [101,  71,  66],\n        [104,  74,  69]],\n\n       [[ 79,  51,  44],\n        [ 79,  51,  44],\n        [ 83,  55,  48],\n        ...,\n        [ 99,  69,  64],\n        [ 98,  68,  63],\n        [102,  72,  67]],\n\n       ...,\n\n       [[  7,   6,   8],\n        [ 13,  12,  14],\n        [ 12,   9,  11],\n        ...,\n        [ 13,   9,  14],\n        [ 13,   9,  14],\n        [ 12,   8,  13]],\n\n       [[  7,   4,   6],\n        [  8,   5,   7],\n        [  9,   6,   8],\n        ...,\n        [ 15,   9,  14],\n        [ 17,  11,  16],\n        [ 15,   9,  14]],\n\n       [[ 11,   8,  10],\n        [  5,   2,   4],\n        [ 14,  11,  13],\n        ...,\n        [ 16,  10,  15],\n        [ 18,  12,  17],\n        [ 15,   9,  14]]], dtype=uint8)"
     },
     "execution_count": 33,
     "metadata": {},
     "output_type": "execute_result"
    }
   ],
   "source": [
    "frames_path = frames_dir + frame_dirs[0] + '/'\n",
    "frame_names = os.listdir(frames_path)\n",
    "\n",
    "# for frame_name in frame_names:\n",
    "_img = cv2.imread(frames_path + frame_names[0])\n",
    "_img"
   ],
   "metadata": {
    "collapsed": false,
    "pycharm": {
     "name": "#%%\n"
    }
   }
  },
  {
   "cell_type": "code",
   "execution_count": 35,
   "outputs": [
    {
     "data": {
      "text/plain": "(1080, 1920, 3)"
     },
     "execution_count": 35,
     "metadata": {},
     "output_type": "execute_result"
    }
   ],
   "source": [
    "_img.shape"
   ],
   "metadata": {
    "collapsed": false,
    "pycharm": {
     "name": "#%%\n"
    }
   }
  },
  {
   "cell_type": "code",
   "execution_count": 34,
   "outputs": [
    {
     "data": {
      "text/plain": "array([[[ 77,  49,  42],\n        [ 83,  55,  48],\n        [ 79,  51,  44],\n        ...,\n        [102,  73,  68],\n        [105,  75,  70],\n        [101,  71,  66]],\n\n       [[ 81,  53,  46],\n        [ 80,  52,  45],\n        [ 84,  56,  49],\n        ...,\n        [100,  71,  66],\n        [101,  71,  66],\n        [104,  74,  69]],\n\n       [[ 79,  51,  44],\n        [ 79,  51,  44],\n        [ 83,  55,  48],\n        ...,\n        [ 99,  69,  64],\n        [ 98,  68,  63],\n        [102,  72,  67]],\n\n       ...,\n\n       [[  7,   6,   8],\n        [ 13,  12,  14],\n        [ 12,   9,  11],\n        ...,\n        [ 13,   9,  14],\n        [ 13,   9,  14],\n        [ 12,   8,  13]],\n\n       [[  7,   4,   6],\n        [  8,   5,   7],\n        [  9,   6,   8],\n        ...,\n        [ 15,   9,  14],\n        [ 17,  11,  16],\n        [ 15,   9,  14]],\n\n       [[ 11,   8,  10],\n        [  5,   2,   4],\n        [ 14,  11,  13],\n        ...,\n        [ 16,  10,  15],\n        [ 18,  12,  17],\n        [ 15,   9,  14]]], dtype=uint8)"
     },
     "execution_count": 34,
     "metadata": {},
     "output_type": "execute_result"
    }
   ],
   "source": [
    "np.lib.stride_tricks.as_strided(_img, shape=(1080, 1920, 3), strides=(2, 4, 1))"
   ],
   "metadata": {
    "collapsed": false,
    "pycharm": {
     "name": "#%%\n"
    }
   }
  },
  {
   "cell_type": "code",
   "execution_count": 20,
   "outputs": [
    {
     "ename": "NameError",
     "evalue": "name 'split_image_in_fragments' is not defined",
     "output_type": "error",
     "traceback": [
      "\u001B[1;31m---------------------------------------------------------------------------\u001B[0m",
      "\u001B[1;31mNameError\u001B[0m                                 Traceback (most recent call last)",
      "\u001B[1;32m~\\AppData\\Local\\Temp/ipykernel_14788/3072307065.py\u001B[0m in \u001B[0;36m<module>\u001B[1;34m\u001B[0m\n\u001B[0;32m      2\u001B[0m \u001B[0mframes_dir\u001B[0m \u001B[1;33m+\u001B[0m \u001B[0mframe_dirs\u001B[0m\u001B[1;33m[\u001B[0m\u001B[1;36m0\u001B[0m\u001B[1;33m]\u001B[0m\u001B[1;33m\u001B[0m\u001B[1;33m\u001B[0m\u001B[0m\n\u001B[0;32m      3\u001B[0m \u001B[1;33m\u001B[0m\u001B[0m\n\u001B[1;32m----> 4\u001B[1;33m \u001B[0msplit_image_in_fragments\u001B[0m\u001B[1;33m(\u001B[0m\u001B[0mwidth\u001B[0m\u001B[1;33m,\u001B[0m \u001B[0mheight\u001B[0m\u001B[1;33m)\u001B[0m\u001B[1;33m\u001B[0m\u001B[1;33m\u001B[0m\u001B[0m\n\u001B[0m",
      "\u001B[1;31mNameError\u001B[0m: name 'split_image_in_fragments' is not defined"
     ]
    }
   ],
   "source": [
    "width, height = 360, 640\n",
    "frames_dir + frame_dirs[0]\n",
    "\n",
    "split_image_in_fragments(width, height)"
   ],
   "metadata": {
    "collapsed": false,
    "pycharm": {
     "name": "#%%\n"
    }
   }
  }
 ],
 "metadata": {
  "kernelspec": {
   "display_name": "Python 3",
   "language": "python",
   "name": "python3"
  },
  "language_info": {
   "codemirror_mode": {
    "name": "ipython",
    "version": 2
   },
   "file_extension": ".py",
   "mimetype": "text/x-python",
   "name": "python",
   "nbconvert_exporter": "python",
   "pygments_lexer": "ipython2",
   "version": "2.7.6"
  }
 },
 "nbformat": 4,
 "nbformat_minor": 0
}