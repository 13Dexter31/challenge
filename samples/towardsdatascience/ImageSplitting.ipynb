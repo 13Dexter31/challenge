{
 "cells": [
  {
   "cell_type": "code",
   "execution_count": 1,
   "outputs": [],
   "source": [
    "import numpy as np"
   ],
   "metadata": {
    "collapsed": false,
    "pycharm": {
     "name": "#%%\n"
    }
   }
  },
  {
   "cell_type": "code",
   "execution_count": 2,
   "outputs": [
    {
     "name": "stdout",
     "output_type": "stream",
     "text": [
      "[[ 1  2  3  4]\n",
      " [ 5  6  7  8]\n",
      " [ 9 10 11 12]\n",
      " [13 14 15 16]\n",
      " [17 18 19 20]\n",
      " [21 22 23 24]]\n"
     ]
    }
   ],
   "source": [
    "a = np.arange(1, 25, dtype='int8').reshape(6, 4)\n",
    "print(a)"
   ],
   "metadata": {
    "collapsed": false,
    "pycharm": {
     "name": "#%%\n"
    }
   }
  },
  {
   "cell_type": "code",
   "execution_count": 3,
   "outputs": [
    {
     "data": {
      "text/plain": "(6, 4)"
     },
     "execution_count": 3,
     "metadata": {},
     "output_type": "execute_result"
    }
   ],
   "source": [
    "a.shape"
   ],
   "metadata": {
    "collapsed": false,
    "pycharm": {
     "name": "#%%\n"
    }
   }
  },
  {
   "cell_type": "code",
   "execution_count": 4,
   "outputs": [
    {
     "data": {
      "text/plain": "(4, 1)"
     },
     "execution_count": 4,
     "metadata": {},
     "output_type": "execute_result"
    }
   ],
   "source": [
    "a.strides"
   ],
   "metadata": {
    "collapsed": false,
    "pycharm": {
     "name": "#%%\n"
    }
   }
  },
  {
   "cell_type": "code",
   "execution_count": 5,
   "outputs": [
    {
     "name": "stdout",
     "output_type": "stream",
     "text": [
      "[[[[ 1  2]\n",
      "   [ 5  6]]\n",
      "\n",
      "  [[ 3  4]\n",
      "   [ 7  8]]]\n",
      "\n",
      "\n",
      " [[[ 9 10]\n",
      "   [13 14]]\n",
      "\n",
      "  [[11 12]\n",
      "   [15 16]]]\n",
      "\n",
      "\n",
      " [[[17 18]\n",
      "   [21 22]]\n",
      "\n",
      "  [[19 20]\n",
      "   [23 24]]]]\n"
     ]
    }
   ],
   "source": [
    "# b = np.lib.stride_tricks.as_strided(a, shape=(2, 6, 2), strides=(2, 4, 1))\n",
    "b = np.lib.stride_tricks.as_strided(a, shape=(3, 2, 2, 2), strides=(8, 2, 4, 1))\n",
    "print(b)"
   ],
   "metadata": {
    "collapsed": false,
    "pycharm": {
     "name": "#%%\n"
    }
   }
  },
  {
   "cell_type": "code",
   "execution_count": 6,
   "outputs": [
    {
     "data": {
      "text/plain": "(3, 2, 2, 2)"
     },
     "execution_count": 6,
     "metadata": {},
     "output_type": "execute_result"
    }
   ],
   "source": [
    "b.shape"
   ],
   "metadata": {
    "collapsed": false,
    "pycharm": {
     "name": "#%%\n"
    }
   }
  },
  {
   "cell_type": "code",
   "execution_count": 7,
   "outputs": [
    {
     "data": {
      "text/plain": "(8, 2, 4, 1)"
     },
     "execution_count": 7,
     "metadata": {},
     "output_type": "execute_result"
    }
   ],
   "source": [
    "b.strides"
   ],
   "metadata": {
    "collapsed": false,
    "pycharm": {
     "name": "#%%\n"
    }
   }
  },
  {
   "cell_type": "code",
   "execution_count": 8,
   "outputs": [
    {
     "name": "stdout",
     "output_type": "stream",
     "text": [
      "[[[[ 1  2]\n",
      "   [ 5  6]]\n",
      "\n",
      "  [[ 3  4]\n",
      "   [ 7  8]]]\n",
      "\n",
      "\n",
      " [[[ 9 10]\n",
      "   [13 14]]\n",
      "\n",
      "  [[11 12]\n",
      "   [15 16]]]\n",
      "\n",
      "\n",
      " [[[17 18]\n",
      "   [21 22]]\n",
      "\n",
      "  [[19 20]\n",
      "   [23 24]]]]\n"
     ]
    }
   ],
   "source": [
    "c = np.lib.stride_tricks.as_strided(b, shape=(3, 2, 2, 2), strides=(8, 2, 4, 1))\n",
    "print(c)"
   ],
   "metadata": {
    "collapsed": false,
    "pycharm": {
     "name": "#%%\n"
    }
   }
  },
  {
   "cell_type": "code",
   "execution_count": 9,
   "outputs": [
    {
     "data": {
      "text/plain": "(3, 2, 2, 2)"
     },
     "execution_count": 9,
     "metadata": {},
     "output_type": "execute_result"
    }
   ],
   "source": [
    "c.shape"
   ],
   "metadata": {
    "collapsed": false,
    "pycharm": {
     "name": "#%%\n"
    }
   }
  },
  {
   "cell_type": "code",
   "execution_count": 10,
   "outputs": [
    {
     "data": {
      "text/plain": "(8, 2, 4, 1)"
     },
     "execution_count": 10,
     "metadata": {},
     "output_type": "execute_result"
    }
   ],
   "source": [
    "c.strides"
   ],
   "metadata": {
    "collapsed": false,
    "pycharm": {
     "name": "#%%\n"
    }
   }
  },
  {
   "cell_type": "markdown",
   "source": [
    "# Creating Generalized Method"
   ],
   "metadata": {
    "collapsed": false,
    "pycharm": {
     "name": "#%% md\n"
    }
   }
  },
  {
   "cell_type": "code",
   "execution_count": 1,
   "outputs": [],
   "source": [
    "def split_image_in_fragments(_img, fragment_height, fragment_width):\n",
    "\n",
    "    channel, image_height, image_width = _img.shape\n",
    "    byte_size = _img.dtype.alignment\n",
    "\n",
    "    shape = (\n",
    "        channel,\n",
    "        int(image_height / fragment_height),\n",
    "        int(image_width / fragment_width),\n",
    "        fragment_height,\n",
    "        fragment_width\n",
    "    )\n",
    "\n",
    "    strides = (\n",
    "        image_width * fragment_height * fragment_width * byte_size,\n",
    "        image_width * fragment_height * byte_size,\n",
    "        fragment_width * byte_size,\n",
    "        image_width * byte_size,\n",
    "        byte_size\n",
    "    )\n",
    "\n",
    "    return np.lib.stride_tricks.as_strided(_img, shape=shape, strides=strides)"
   ],
   "metadata": {
    "collapsed": false,
    "pycharm": {
     "name": "#%%\n"
    }
   }
  },
  {
   "cell_type": "markdown",
   "source": [
    "## 2dim\n",
    "\n",
    "### Create 2dim Image"
   ],
   "metadata": {
    "collapsed": false,
    "pycharm": {
     "name": "#%% md\n"
    }
   }
  },
  {
   "cell_type": "code",
   "execution_count": 23,
   "outputs": [
    {
     "name": "stdout",
     "output_type": "stream",
     "text": [
      "[[[ 0  1  2  3  4  5]\n",
      "  [ 6  7  8  9 10 11]\n",
      "  [12 13 14 15 16 17]\n",
      "  [18 19 20 21 22 23]]]\n"
     ]
    }
   ],
   "source": [
    "fake_image = np.arange(0, 24, dtype='int8').reshape(1, 4, 6)\n",
    "print(fake_image)"
   ],
   "metadata": {
    "collapsed": false,
    "pycharm": {
     "name": "#%%\n"
    }
   }
  },
  {
   "cell_type": "code",
   "execution_count": 14,
   "outputs": [
    {
     "name": "stdout",
     "output_type": "stream",
     "text": [
      "[[[[[ 0  1]\n",
      "    [ 6  7]]\n",
      "\n",
      "   [[ 2  3]\n",
      "    [ 8  9]]\n",
      "\n",
      "   [[ 4  5]\n",
      "    [10 11]]]\n",
      "\n",
      "\n",
      "  [[[12 13]\n",
      "    [18 19]]\n",
      "\n",
      "   [[14 15]\n",
      "    [20 21]]\n",
      "\n",
      "   [[16 17]\n",
      "    [22 23]]]]]\n"
     ]
    }
   ],
   "source": [
    "print(split_image_in_fragments(fake_image, 2, 2))"
   ],
   "metadata": {
    "collapsed": false,
    "pycharm": {
     "name": "#%%\n"
    }
   }
  },
  {
   "cell_type": "code",
   "execution_count": 15,
   "outputs": [
    {
     "data": {
      "text/plain": "array([[[[[ 0,  1],\n          [ 6,  7]],\n\n         [[ 2,  3],\n          [ 8,  9]],\n\n         [[ 4,  5],\n          [10, 11]]],\n\n\n        [[[12, 13],\n          [18, 19]],\n\n         [[14, 15],\n          [20, 21]],\n\n         [[16, 17],\n          [22, 23]]]]], dtype=int8)"
     },
     "execution_count": 15,
     "metadata": {},
     "output_type": "execute_result"
    }
   ],
   "source": [
    "np.lib.stride_tricks.as_strided(fake_image, shape=(1, 2, 3, 2, 2), strides=(24, 12, 2, 6, 1))"
   ],
   "metadata": {
    "collapsed": false,
    "pycharm": {
     "name": "#%%\n"
    }
   }
  },
  {
   "cell_type": "markdown",
   "source": [
    "## 3dim"
   ],
   "metadata": {
    "collapsed": false,
    "pycharm": {
     "name": "#%% md\n"
    }
   }
  },
  {
   "cell_type": "markdown",
   "source": [
    "### Create 3dim Image"
   ],
   "metadata": {
    "collapsed": false,
    "pycharm": {
     "name": "#%% md\n"
    }
   }
  },
  {
   "cell_type": "code",
   "execution_count": 16,
   "outputs": [
    {
     "name": "stdout",
     "output_type": "stream",
     "text": [
      "[[[ 0  1  2  3  4  5]\n",
      "  [ 6  7  8  9 10 11]\n",
      "  [12 13 14 15 16 17]\n",
      "  [18 19 20 21 22 23]]\n",
      "\n",
      " [[24 25 26 27 28 29]\n",
      "  [30 31 32 33 34 35]\n",
      "  [36 37 38 39 40 41]\n",
      "  [42 43 44 45 46 47]]\n",
      "\n",
      " [[48 49 50 51 52 53]\n",
      "  [54 55 56 57 58 59]\n",
      "  [60 61 62 63 64 65]\n",
      "  [66 67 68 69 70 71]]]\n"
     ]
    }
   ],
   "source": [
    "channeled_fake_image = np.arange(0, 72, dtype='int8').reshape(3, 4, 6)\n",
    "print(channeled_fake_image)"
   ],
   "metadata": {
    "collapsed": false,
    "pycharm": {
     "name": "#%%\n"
    }
   }
  },
  {
   "cell_type": "markdown",
   "source": [
    "### Test"
   ],
   "metadata": {
    "collapsed": false,
    "pycharm": {
     "name": "#%% md\n"
    }
   }
  },
  {
   "cell_type": "code",
   "execution_count": 17,
   "outputs": [
    {
     "name": "stdout",
     "output_type": "stream",
     "text": [
      "[[[[[ 0  1]\n",
      "    [ 6  7]]\n",
      "\n",
      "   [[ 2  3]\n",
      "    [ 8  9]]\n",
      "\n",
      "   [[ 4  5]\n",
      "    [10 11]]]\n",
      "\n",
      "\n",
      "  [[[12 13]\n",
      "    [18 19]]\n",
      "\n",
      "   [[14 15]\n",
      "    [20 21]]\n",
      "\n",
      "   [[16 17]\n",
      "    [22 23]]]]\n",
      "\n",
      "\n",
      "\n",
      " [[[[24 25]\n",
      "    [30 31]]\n",
      "\n",
      "   [[26 27]\n",
      "    [32 33]]\n",
      "\n",
      "   [[28 29]\n",
      "    [34 35]]]\n",
      "\n",
      "\n",
      "  [[[36 37]\n",
      "    [42 43]]\n",
      "\n",
      "   [[38 39]\n",
      "    [44 45]]\n",
      "\n",
      "   [[40 41]\n",
      "    [46 47]]]]\n",
      "\n",
      "\n",
      "\n",
      " [[[[48 49]\n",
      "    [54 55]]\n",
      "\n",
      "   [[50 51]\n",
      "    [56 57]]\n",
      "\n",
      "   [[52 53]\n",
      "    [58 59]]]\n",
      "\n",
      "\n",
      "  [[[60 61]\n",
      "    [66 67]]\n",
      "\n",
      "   [[62 63]\n",
      "    [68 69]]\n",
      "\n",
      "   [[64 65]\n",
      "    [70 71]]]]]\n"
     ]
    }
   ],
   "source": [
    "print(split_image_in_fragments(channeled_fake_image, 2, 2))"
   ],
   "metadata": {
    "collapsed": false,
    "pycharm": {
     "name": "#%%\n"
    }
   }
  },
  {
   "cell_type": "markdown",
   "source": [
    "### Check"
   ],
   "metadata": {
    "collapsed": false,
    "pycharm": {
     "name": "#%% md\n"
    }
   }
  },
  {
   "cell_type": "code",
   "execution_count": 18,
   "outputs": [
    {
     "name": "stdout",
     "output_type": "stream",
     "text": [
      "[[[[[ 0  1]\n",
      "    [ 6  7]]\n",
      "\n",
      "   [[ 2  3]\n",
      "    [ 8  9]]\n",
      "\n",
      "   [[ 4  5]\n",
      "    [10 11]]]\n",
      "\n",
      "\n",
      "  [[[12 13]\n",
      "    [18 19]]\n",
      "\n",
      "   [[14 15]\n",
      "    [20 21]]\n",
      "\n",
      "   [[16 17]\n",
      "    [22 23]]]]\n",
      "\n",
      "\n",
      "\n",
      " [[[[24 25]\n",
      "    [30 31]]\n",
      "\n",
      "   [[26 27]\n",
      "    [32 33]]\n",
      "\n",
      "   [[28 29]\n",
      "    [34 35]]]\n",
      "\n",
      "\n",
      "  [[[36 37]\n",
      "    [42 43]]\n",
      "\n",
      "   [[38 39]\n",
      "    [44 45]]\n",
      "\n",
      "   [[40 41]\n",
      "    [46 47]]]]\n",
      "\n",
      "\n",
      "\n",
      " [[[[48 49]\n",
      "    [54 55]]\n",
      "\n",
      "   [[50 51]\n",
      "    [56 57]]\n",
      "\n",
      "   [[52 53]\n",
      "    [58 59]]]\n",
      "\n",
      "\n",
      "  [[[60 61]\n",
      "    [66 67]]\n",
      "\n",
      "   [[62 63]\n",
      "    [68 69]]\n",
      "\n",
      "   [[64 65]\n",
      "    [70 71]]]]]\n"
     ]
    }
   ],
   "source": [
    "channeled_fake_image = np.lib.stride_tricks.as_strided(channeled_fake_image, shape=(3, 2, 3, 2, 2), strides=(24, 12, 2, 6, 1))\n",
    "print(channeled_fake_image)"
   ],
   "metadata": {
    "collapsed": false,
    "pycharm": {
     "name": "#%%\n"
    }
   }
  },
  {
   "cell_type": "markdown",
   "source": [],
   "metadata": {
    "collapsed": false,
    "pycharm": {
     "name": "#%% md\n"
    }
   }
  }
 ],
 "metadata": {
  "kernelspec": {
   "display_name": "Python 3",
   "language": "python",
   "name": "python3"
  },
  "language_info": {
   "codemirror_mode": {
    "name": "ipython",
    "version": 2
   },
   "file_extension": ".py",
   "mimetype": "text/x-python",
   "name": "python",
   "nbconvert_exporter": "python",
   "pygments_lexer": "ipython2",
   "version": "2.7.6"
  },
  "pycharm": {
   "stem_cell": {
    "cell_type": "raw",
    "source": [
     "##%% md\n",
     " Testing np.lib.stride_tricks.as_strided"
    ],
    "metadata": {
     "collapsed": false
    }
   }
  }
 },
 "nbformat": 4,
 "nbformat_minor": 0
}